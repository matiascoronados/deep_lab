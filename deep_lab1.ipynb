{
 "cells": [
  {
   "cell_type": "markdown",
   "id": "d188b22b",
   "metadata": {},
   "source": [
    "### Parte 1"
   ]
  },
  {
   "cell_type": "markdown",
   "id": "f729eaf5",
   "metadata": {},
   "source": [
    "Importar las bibliotecas que son usadas en el desarrollo del laboratorio"
   ]
  },
  {
   "cell_type": "code",
   "execution_count": 24,
   "id": "43a6c1c5",
   "metadata": {},
   "outputs": [],
   "source": [
    "#Bibliotecas propias\n",
    "%matplotlib inline\n",
    "import os,os.path,math,scipy\n",
    "import PIL\n",
    "\n",
    "from datasets import ClassLabel\n",
    "\n",
    "#Bibliotecas para LeNet\n",
    "import torch\n",
    "import torch.nn as nn\n",
    "import torch.nn.functional as F\n",
    "import torch.optim as optim\n",
    "import torch.utils.data as data\n",
    "\n",
    "import torchvision.transforms as transforms\n",
    "import torchvision.datasets as datasets\n",
    "\n",
    "from sklearn import decomposition\n",
    "from sklearn import manifold\n",
    "from sklearn.metrics import confusion_matrix\n",
    "from sklearn.metrics import ConfusionMatrixDisplay\n",
    "import matplotlib.pyplot as plt\n",
    "import numpy as np\n",
    "\n",
    "import copy\n",
    "import random\n",
    "import time\n",
    "\n",
    "import pandas as pd\n",
    "\n",
    "import torchvision\n",
    "from torch import nn\n",
    "from d2l import torch as d2l\n",
    "\n",
    "import tensorflow as tf\n"
   ]
  },
  {
   "cell_type": "code",
   "execution_count": 2,
   "id": "2be4588b",
   "metadata": {},
   "outputs": [],
   "source": [
    "#Se setean las seeds\n",
    "SEED = 1234\n",
    "\n",
    "random.seed(SEED)\n",
    "np.random.seed(SEED)\n",
    "torch.manual_seed(SEED)\n",
    "torch.cuda.manual_seed(SEED)\n",
    "torch.backends.cudnn.deterministic = True"
   ]
  },
  {
   "cell_type": "code",
   "execution_count": 3,
   "id": "0b59fcec",
   "metadata": {},
   "outputs": [],
   "source": [
    "def same_amount_of_n_images(img_dir_list,N):\n",
    "    for img_dir in img_dir_list:\n",
    "        img_count = len([name for name in os.listdir(img_dir) if os.path.isfile(os.path.join(img_dir, name))])\n",
    "        if(img_count < N):\n",
    "            return False\n",
    "    return True"
   ]
  },
  {
   "cell_type": "code",
   "execution_count": 4,
   "id": "26b6ef94",
   "metadata": {},
   "outputs": [],
   "source": [
    "normalize = torchvision.transforms.Normalize(\n",
    "    [0.485, 0.456, 0.406], [0.229, 0.224, 0.225])\n",
    "\n",
    "train_augs = torchvision.transforms.Compose([\n",
    "    torchvision.transforms.RandomResizedCrop(224),\n",
    "    torchvision.transforms.RandomHorizontalFlip(),\n",
    "    torchvision.transforms.ToTensor(),\n",
    "    normalize])\n",
    "\n",
    "test_augs = torchvision.transforms.Compose([\n",
    "    torchvision.transforms.Resize(256),\n",
    "    torchvision.transforms.CenterCrop(224),\n",
    "    torchvision.transforms.ToTensor(),\n",
    "    normalize])"
   ]
  },
  {
   "cell_type": "code",
   "execution_count": 5,
   "id": "2cf7c92f",
   "metadata": {},
   "outputs": [],
   "source": [
    "def save (list_total,list_index,N):\n",
    "    aux = np.random.choice(list_index, N, replace=False)\n",
    "    list_total = np.append(list_total,aux)\n",
    "    return list_total"
   ]
  },
  {
   "cell_type": "code",
   "execution_count": 6,
   "id": "1c797a4d",
   "metadata": {},
   "outputs": [],
   "source": [
    "def get_index_values(train_images,N):\n",
    "    N = N\n",
    "    aux = np.ndarray([0])\n",
    "    index_list = np.ndarray([0])\n",
    "    aux_label = 0\n",
    "    largo = len(train_images)\n",
    "    for i in range(largo):\n",
    "        label_y = train_images[i][1]\n",
    "        if label_y == aux_label:\n",
    "            aux = np.append(aux,i)\n",
    "        else:\n",
    "            aux_label = label_y\n",
    "            i= i-1\n",
    "            index_list = save(index_list,aux,N)\n",
    "            aux = np.ndarray([0])\n",
    "    index_list = save(index_list,aux,N)\n",
    "    return index_list\n",
    "        "
   ]
  },
  {
   "cell_type": "markdown",
   "id": "94b1dd8f",
   "metadata": {},
   "source": [
    "Lectura del conjunto de datos, deberá diseñar una estrategia para la selección y lectura del sub conjunto de datos, es decir, se debe crear un conjuntos de datos pequeño que contenga entre 3 a 5 clases y una cantidad de $N$ ejemplos para cada clase, con el fin de tener un conjunto de datos balanceado con un tamaño que se pueda trabajar con los recursos disponibles.\n"
   ]
  },
  {
   "cell_type": "code",
   "execution_count": 7,
   "id": "81a598e3",
   "metadata": {
    "scrolled": false
   },
   "outputs": [],
   "source": [
    "#Se define la cantidad N de ejemplos por clase\n",
    "N = 30\n",
    "\n",
    "#Numero de iteraciones para aumentar la cantidad de imagenes.\n",
    "n_iteraciones = 5\n",
    "\n",
    "AcuraIntegraTypeR2001_dir = 'data/train/AcuraIntegraTypeR2001'\n",
    "AcuraRLSedan2012_dir = 'data/train/AcuraRLSedan2012'\n",
    "AcuraTLSedan2012_dir = 'data/train/AcuraTLSedan2012'\n",
    "AcuraTLType_S2008_dir = 'data/train/AcuraTLType_S2008'\n",
    "AcuraTSXSedan2012_dir = 'data/train/AcuraTSXSedan2012'\n",
    "aux_dir_list = [AcuraIntegraTypeR2001_dir,AcuraRLSedan2012_dir,AcuraTLSedan2012_dir,AcuraTLType_S2008_dir,AcuraTSXSedan2012_dir]\n",
    "\n",
    "if same_amount_of_n_images(aux_dir_list,N):\n",
    "    train_images = []\n",
    "    test_images = []\n",
    "    # Se aplican técnicas para aumentar la cantidad de imágenes en los datos de entrenamiento, \n",
    "    for i in range(n_iteraciones):\n",
    "        train_aux = torchvision.datasets.ImageFolder('data/train',train_augs)\n",
    "        train_images = torch.utils.data.ConcatDataset([train_images,train_aux])\n",
    "        test_aux = torchvision.datasets.ImageFolder('data/test',test_augs)\n",
    "        test_images = torch.utils.data.ConcatDataset([test_images,test_aux])    \n",
    "    #Se obtienen los indicies para las N imagenes de cada clase.\n",
    "    train_index = get_index_values(train_images,N)\n",
    "    #Se filtra train_images, dejando unicamente las imagenes con indices presentes en train_index\n",
    "    train_images = torch.utils.data.Subset(train_images, train_index.astype(int))\n",
    "    \n",
    "    #Se ajustan los datos de Test, par que siguan la forma: Train (70%) y Test (30%).\n",
    "    test_size = int(0.3 * len(train_images))\n",
    "    test_data = torch.utils.data.Subset(test_images, np.random.choice(len(test_images), test_size, replace=False))\n",
    "    \n",
    "else:\n",
    "    print('N invalido')"
   ]
  },
  {
   "cell_type": "code",
   "execution_count": 8,
   "id": "763abff5",
   "metadata": {},
   "outputs": [],
   "source": [
    "valid_size = int(0.1 * len(train_images))\n",
    "train_size = len(train_images) - valid_size\n",
    "\n",
    "# Se separa el dataset y se guarda uno de entrenamiento y otro de validación\n",
    "train_data, valid_data = torch.utils.data.random_split(train_images, [train_size, valid_size])"
   ]
  },
  {
   "cell_type": "code",
   "execution_count": 9,
   "id": "90841d86",
   "metadata": {},
   "outputs": [],
   "source": [
    "#Se crean los dataloaders para procesar los datos a travez de las iteraciones.\n",
    "#Se trabaja con un tamaño de lote BATCH_SIZE\n",
    "BATCH_SIZE = 32\n",
    "\n",
    "train_iterator = data.DataLoader(train_data,\n",
    "                                 shuffle = True, \n",
    "                                 batch_size = BATCH_SIZE)\n",
    "test_iterator = data.DataLoader(test_data, \n",
    "                                 batch_size = BATCH_SIZE)\n",
    "\n",
    "valid_iterator = data.DataLoader(valid_data, \n",
    "                                 batch_size = BATCH_SIZE)"
   ]
  },
  {
   "cell_type": "code",
   "execution_count": null,
   "id": "909b6d85",
   "metadata": {},
   "outputs": [],
   "source": []
  },
  {
   "cell_type": "markdown",
   "id": "a803da1d",
   "metadata": {},
   "source": [
    "### Parte 2"
   ]
  },
  {
   "cell_type": "markdown",
   "id": "876e3948",
   "metadata": {},
   "source": [
    "Creación de una arquitectura desde cero, para esté paso se recomienda adaptar la implementación LeNet vista en clases. Cuya implementación debe funcionar tanto en CPU como en GPU."
   ]
  },
  {
   "cell_type": "code",
   "execution_count": 10,
   "id": "970f1d70",
   "metadata": {},
   "outputs": [],
   "source": [
    "class LeNet(nn.Module):\n",
    "    def __init__(self, output_dim):\n",
    "        super().__init__()\n",
    "        self.conv1 = nn.Conv2d(in_channels = 3, \n",
    "                               out_channels = 6, \n",
    "                               kernel_size = 5)\n",
    "        self.conv2 = nn.Conv2d(in_channels = 6, \n",
    "                               out_channels = 16, \n",
    "                               kernel_size = 5)\n",
    "        self.fc_1 = nn.Linear(44944, 120)\n",
    "        self.fc_2 = nn.Linear(120, 84)\n",
    "        self.fc_3 = nn.Linear(84, output_dim)\n",
    "\n",
    "    def forward(self, x):\n",
    "        x = self.conv1(x)\n",
    "        x = F.max_pool2d(x, kernel_size = 2)\n",
    "        x = F.relu(x)\n",
    "        x = self.conv2(x)\n",
    "        x = F.max_pool2d(x, kernel_size = 2)\n",
    "        x = F.relu(x)\n",
    "        x = x.view(x.shape[0], -1)\n",
    "        h = x\n",
    "        x = self.fc_1(x)\n",
    "        x = F.relu(x)\n",
    "        x = self.fc_2(x)\n",
    "        x = F.relu(x)\n",
    "        x = self.fc_3(x)\n",
    "        return x, h"
   ]
  },
  {
   "cell_type": "code",
   "execution_count": 11,
   "id": "7e5a13a7",
   "metadata": {},
   "outputs": [],
   "source": [
    "OUTPUT_DIM = 10\n",
    "model = LeNet(OUTPUT_DIM)\n",
    "optimizer = optim.Adam(model.parameters())\n",
    "criterion = nn.CrossEntropyLoss()\n",
    "device = torch.device('cuda' if torch.cuda.is_available() else 'cpu')\n",
    "model = model.to(device)\n",
    "criterion = criterion.to(device)"
   ]
  },
  {
   "cell_type": "code",
   "execution_count": 12,
   "id": "83dc038a",
   "metadata": {},
   "outputs": [],
   "source": [
    "def calculate_accuracy(y_pred, y):\n",
    "    top_pred = y_pred.argmax(1, keepdim = True)\n",
    "    correct = top_pred.eq(y.view_as(top_pred)).sum()\n",
    "    acc = correct.float() / y.shape[0]\n",
    "    return acc"
   ]
  },
  {
   "cell_type": "code",
   "execution_count": 13,
   "id": "0214c8c2",
   "metadata": {},
   "outputs": [],
   "source": [
    "def train(model, iterator, optimizer, criterion, device):\n",
    "    epoch_loss = 0\n",
    "    epoch_acc = 0\n",
    "    model.train()\n",
    "    for (x, y) in iterator:   \n",
    "        x = x.to(device)\n",
    "        y = torch.tensor(y).to(device)\n",
    "        optimizer.zero_grad() \n",
    "        y_pred, _ = model(x)\n",
    "        loss = criterion(y_pred, y)\n",
    "        acc = calculate_accuracy(y_pred, y)\n",
    "        loss.backward()\n",
    "        optimizer.step()\n",
    "        epoch_loss += loss.item()\n",
    "        epoch_acc += acc.item()\n",
    "    return epoch_loss / len(iterator), epoch_acc / len(iterator)"
   ]
  },
  {
   "cell_type": "code",
   "execution_count": 14,
   "id": "9bb9cbab",
   "metadata": {},
   "outputs": [],
   "source": [
    "def evaluate(model, iterator, criterion, device):\n",
    "    epoch_loss = 0\n",
    "    epoch_acc = 0\n",
    "    model.eval()\n",
    "    with torch.no_grad():\n",
    "        for (x, y) in iterator:\n",
    "            x = x.to(device)\n",
    "            y = torch.tensor(y).to(device)\n",
    "            y_pred, _ = model(x)\n",
    "            loss = criterion(y_pred, y)\n",
    "            acc = calculate_accuracy(y_pred, y)\n",
    "            epoch_loss += loss.item()\n",
    "            epoch_acc += acc.item()\n",
    "    return epoch_loss / len(iterator), epoch_acc / len(iterator)"
   ]
  },
  {
   "cell_type": "code",
   "execution_count": 15,
   "id": "a0cfa97e",
   "metadata": {},
   "outputs": [],
   "source": [
    "def epoch_time(start_time, end_time):\n",
    "    elapsed_time = end_time - start_time\n",
    "    elapsed_mins = int(elapsed_time / 60)\n",
    "    elapsed_secs = int(elapsed_time - (elapsed_mins * 60))\n",
    "    return elapsed_mins, elapsed_secs"
   ]
  },
  {
   "cell_type": "code",
   "execution_count": 16,
   "id": "dc41ef2e",
   "metadata": {
    "scrolled": false
   },
   "outputs": [
    {
     "name": "stderr",
     "output_type": "stream",
     "text": [
      "/Users/matiascoronado/opt/anaconda3/envs/python3-7/lib/python3.7/site-packages/ipykernel_launcher.py:7: UserWarning: To copy construct from a tensor, it is recommended to use sourceTensor.clone().detach() or sourceTensor.clone().detach().requires_grad_(True), rather than torch.tensor(sourceTensor).\n",
      "  import sys\n",
      "/Users/matiascoronado/opt/anaconda3/envs/python3-7/lib/python3.7/site-packages/ipykernel_launcher.py:8: UserWarning: To copy construct from a tensor, it is recommended to use sourceTensor.clone().detach() or sourceTensor.clone().detach().requires_grad_(True), rather than torch.tensor(sourceTensor).\n",
      "  \n"
     ]
    },
    {
     "name": "stdout",
     "output_type": "stream",
     "text": [
      "Epoch: 01 | Epoch Time: 0m 21s\n",
      "\tTrain Loss: 1.616 | Train Acc: 30.26%\n",
      "\t Val. Loss: 1.499 |  Val. Acc: 32.10%\n",
      "\tTest Loss: 1.519 | Test Acc: 27.34%\n",
      "Epoch: 02 | Epoch Time: 0m 21s\n",
      "\tTrain Loss: 1.375 | Train Acc: 35.61%\n",
      "\t Val. Loss: 1.340 |  Val. Acc: 43.28%\n",
      "\tTest Loss: 1.507 | Test Acc: 42.97%\n",
      "Epoch: 03 | Epoch Time: 0m 21s\n",
      "\tTrain Loss: 1.373 | Train Acc: 40.72%\n",
      "\t Val. Loss: 1.600 |  Val. Acc: 28.98%\n",
      "\tTest Loss: 1.614 | Test Acc: 30.47%\n"
     ]
    }
   ],
   "source": [
    "EPOCHS = 3\n",
    "epoch_loss = []\n",
    "epoch_acc = []\n",
    "\n",
    "best_valid_loss = float('inf')\n",
    "for epoch in range(EPOCHS):\n",
    "    start_time = time.monotonic()\n",
    "    train_loss, train_acc = train(model, train_iterator, optimizer, criterion, device)\n",
    "    valid_loss, valid_acc = evaluate(model, valid_iterator, criterion, device)\n",
    "    test_loss, test_acc = evaluate(model, test_iterator, criterion, device)\n",
    "\n",
    "    if valid_loss < best_valid_loss:\n",
    "        best_valid_loss = valid_loss\n",
    "        torch.save(model.state_dict(), 'tut2-model.pt')\n",
    "    \n",
    "    end_time = time.monotonic()\n",
    "    epoch_mins, epoch_secs = epoch_time(start_time, end_time)\n",
    "    epoch_loss.append([train_loss,valid_loss,test_loss])\n",
    "    epoch_acc.append([train_acc*100,valid_acc*100,test_acc*100])\n",
    "    print(f'Epoch: {epoch+1:02} | Epoch Time: {epoch_mins}m {epoch_secs}s')\n",
    "    print(f'\\tTrain Loss: {train_loss:.3f} | Train Acc: {train_acc*100:.2f}%')\n",
    "    print(f'\\t Val. Loss: {valid_loss:.3f} |  Val. Acc: {valid_acc*100:.2f}%')\n",
    "    print(f'\\tTest Loss: {test_loss:.3f} | Test Acc: {test_acc*100:.2f}%')"
   ]
  },
  {
   "cell_type": "code",
   "execution_count": 35,
   "id": "43451e33",
   "metadata": {
    "scrolled": true
   },
   "outputs": [
    {
     "data": {
      "text/plain": [
       "[<matplotlib.lines.Line2D at 0x7fe5503f13d0>,\n",
       " <matplotlib.lines.Line2D at 0x7fe5503fe110>,\n",
       " <matplotlib.lines.Line2D at 0x7fe5503fe2d0>]"
      ]
     },
     "execution_count": 35,
     "metadata": {},
     "output_type": "execute_result"
    },
    {
     "data": {
      "image/png": "[encoded data removed]",
      "text/plain": [
       "<Figure size 432x288 with 1 Axes>"
      ]
     },
     "metadata": {
      "needs_background": "light"
     },
     "output_type": "display_data"
    }
   ],
   "source": [
    "plt.plot(epoch_loss)"
   ]
  },
  {
   "cell_type": "code",
   "execution_count": 36,
   "id": "3bc7a347",
   "metadata": {},
   "outputs": [],
   "source": [
    "df3 = pd.DataFrame(epoch_loss, columns=['Train loss', 'Val loss','Test loss'])"
   ]
  },
  {
   "cell_type": "code",
   "execution_count": 38,
   "id": "6d76b731",
   "metadata": {},
   "outputs": [
    {
     "data": {
      "text/plain": [
       "[<matplotlib.lines.Line2D at 0x7fe540ea17d0>,\n",
       " <matplotlib.lines.Line2D at 0x7fe540eab610>,\n",
       " <matplotlib.lines.Line2D at 0x7fe540eab7d0>]"
      ]
     },
     "execution_count": 38,
     "metadata": {},
     "output_type": "execute_result"
    },
    {
     "data": {
      "image/png": "[encoded data removed]",
      "text/plain": [
       "<Figure size 432x288 with 1 Axes>"
      ]
     },
     "metadata": {
      "needs_background": "light"
     },
     "output_type": "display_data"
    }
   ],
   "source": [
    "plt.plot(df3)"
   ]
  },
  {
   "cell_type": "code",
   "execution_count": 33,
   "id": "4b63ec90",
   "metadata": {},
   "outputs": [
    {
     "data": {
      "image/png": "[encoded data removed]",
      "text/plain": [
       "<Figure size 432x288 with 1 Axes>"
      ]
     },
     "metadata": {
      "needs_background": "light"
     },
     "output_type": "display_data"
    }
   ],
   "source": [
    "lines = df3.plot.line()"
   ]
  },
  {
   "cell_type": "code",
   "execution_count": 26,
   "id": "064d83c4",
   "metadata": {},
   "outputs": [
    {
     "data": {
      "text/plain": [
       "[<matplotlib.lines.Line2D at 0x7fe5589d0790>,\n",
       " <matplotlib.lines.Line2D at 0x7fe500027050>,\n",
       " <matplotlib.lines.Line2D at 0x7fe500027250>]"
      ]
     },
     "execution_count": 26,
     "metadata": {},
     "output_type": "execute_result"
    },
    {
     "data": {
      "image/png": "[encoded data removed]",
      "text/plain": [
       "<Figure size 432x288 with 1 Axes>"
      ]
     },
     "metadata": {
      "needs_background": "light"
     },
     "output_type": "display_data"
    }
   ],
   "source": [
    "plt.plot(df3)"
   ]
  },
  {
   "cell_type": "code",
   "execution_count": 17,
   "id": "aaa0e86b",
   "metadata": {},
   "outputs": [],
   "source": [
    "def get_predictions(model, iterator, device):\n",
    "    model.eval()\n",
    "    images = []\n",
    "    labels = []\n",
    "    probs = []\n",
    "    with torch.no_grad():\n",
    "        for (x, y) in iterator:\n",
    "            x = x.to(device)\n",
    "            y_pred, _ = model(x)\n",
    "            y_prob = F.softmax(y_pred, dim = -1)\n",
    "            top_pred = y_prob.argmax(1, keepdim = True)\n",
    "            images.append(x.cpu())\n",
    "            labels.append(y.cpu())\n",
    "            probs.append(y_prob.cpu())\n",
    "    images = torch.cat(images, dim = 0)\n",
    "    labels = torch.cat(labels, dim = 0)\n",
    "    probs = torch.cat(probs, dim = 0)\n",
    "    return images, labels, probs"
   ]
  },
  {
   "cell_type": "markdown",
   "id": "d75772d7",
   "metadata": {},
   "source": [
    "Crear matriz de clasificación del modelo que presento el menor error en la clasificación, por lo tanto la mejor clasificación."
   ]
  },
  {
   "cell_type": "code",
   "execution_count": 18,
   "id": "b37dc892",
   "metadata": {},
   "outputs": [],
   "source": [
    "model.load_state_dict(torch.load('tut2-model.pt'))\n",
    "images, labels, probs = get_predictions(model, test_iterator, device)\n",
    "pred_labels = torch.argmax(probs, 1)"
   ]
  },
  {
   "cell_type": "code",
   "execution_count": 19,
   "id": "08df5755",
   "metadata": {},
   "outputs": [],
   "source": [
    "def plot_confusion_matrix(labels, pred_labels):\n",
    "    fig = plt.figure(figsize = (10, 10));\n",
    "    ax = fig.add_subplot(1, 1, 1);\n",
    "    cm = confusion_matrix(labels, pred_labels);\n",
    "    cm = ConfusionMatrixDisplay(cm, display_labels = range(10));\n",
    "    cm.plot(values_format = 'd', cmap = 'Blues', ax = ax)"
   ]
  },
  {
   "cell_type": "code",
   "execution_count": 20,
   "id": "38d93b8e",
   "metadata": {},
   "outputs": [
    {
     "data": {
      "image/png": "[encoded data removed]",
      "text/plain": [
       "<Figure size 720x720 with 2 Axes>"
      ]
     },
     "metadata": {
      "needs_background": "light"
     },
     "output_type": "display_data"
    }
   ],
   "source": [
    "plot_confusion_matrix(labels, pred_labels)"
   ]
  },
  {
   "cell_type": "code",
   "execution_count": null,
   "id": "2c6d4f7b",
   "metadata": {},
   "outputs": [],
   "source": []
  },
  {
   "cell_type": "code",
   "execution_count": null,
   "id": "99283da9",
   "metadata": {},
   "outputs": [],
   "source": []
  },
  {
   "cell_type": "code",
   "execution_count": null,
   "id": "aab952cd",
   "metadata": {},
   "outputs": [],
   "source": []
  },
  {
   "cell_type": "code",
   "execution_count": null,
   "id": "c99f40ce",
   "metadata": {},
   "outputs": [],
   "source": []
  }
 ],
 "metadata": {
  "kernelspec": {
   "display_name": "Python 3 (ipykernel)",
   "language": "python",
   "name": "python3"
  },
  "language_info": {
   "codemirror_mode": {
    "name": "ipython",
    "version": 3
   },
   "file_extension": ".py",
   "mimetype": "text/x-python",
   "name": "python",
   "nbconvert_exporter": "python",
   "pygments_lexer": "ipython3",
   "version": "3.7.11"
  }
 },
 "nbformat": 4,
 "nbformat_minor": 5
}
